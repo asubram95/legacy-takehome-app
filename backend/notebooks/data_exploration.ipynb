{
  "cells": [
    {
      "cell_type": "markdown",
      "metadata": {},
      "source": [
        "# Mental Health Conversations Data Exploration\n",
        "\n",
        "This notebook explores the Kaggle mental health conversations dataset."
      ]
    },
    {
      "cell_type": "code",
      "execution_count": null,
      "metadata": {},
      "outputs": [],
      "source": [
        "import pandas as pd\n",
        "import numpy as np\n",
        "import matplotlib.pyplot as plt\n",
        "import seaborn as sns\n",
        "\n",
        "# Set plotting style\n",
        "plt.style.use('ggplot')\n",
        "sns.set(style=\"whitegrid\")\n",
        "\n",
        "# Load the data\n",
        "df = pd.read_csv('../data/raw/mental_health_conversations.csv')\n",
        "print(f\"Loaded {len(df)} conversations\")"
      ]
    },
    {
      "cell_type": "code",
      "execution_count": null,
      "metadata": {},
      "outputs": [],
      "source": [
        "# Display the first few rows\n",
        "df.head()"
      ]
    },
    {
      "cell_type": "code",
      "execution_count": null,
      "metadata": {},
      "outputs": [],
      "source": [
        "# Basic data info\n",
        "print(\"Dataset information:\")\n",
        "df.info()\n",
        "\n",
        "# Check for missing values\n",
        "print(\"\\nMissing values:\")\n",
        "df.isnull().sum()"
      ]
    },
    {
      "cell_type": "code",
      "execution_count": null,
      "metadata": {},
      "outputs": [],
      "source": [
        "# Add message length analysis\n",
        "df['patient_msg_length'] = df['patient_message'].str.len()\n",
        "df['therapist_resp_length'] = df['therapist_response'].str.len()\n",
        "\n",
        "# Plot message length distributions\n",
        "fig, ax = plt.subplots(1, 2, figsize=(15, 5))\n",
        "\n",
        "sns.histplot(df['patient_msg_length'], kde=True, ax=ax[0])\n",
        "ax[0].set_title('Patient Message Length')\n",
        "ax[0].set_xlabel('Characters')\n",
        "\n",
        "sns.histplot(df['therapist_resp_length'], kde=True, ax=ax[1])\n",
        "ax[1].set_title('Therapist Response Length')\n",
        "ax[1].set_xlabel('Characters')\n",
        "\n",
        "plt.tight_layout()\n",
        "plt.show()"
      ]
    },
    {
      "cell_type": "code",
      "execution_count": null,
      "metadata": {},
      "outputs": [],
      "source": [
        "# Add a simple response type classification\n",
        "def categorize_response(text):\n",
        "    text = text.lower()\n",
        "    if any(word in text for word in ['suggest', 'recommend', 'try', 'should']):\n",
        "        return 'direct_advice'\n",
        "    elif any(word in text for word in ['feel', 'seem', 'sounds like']):\n",
        "        return 'reflection'\n",
        "    elif any(word in text for word in ['?', 'tell me more', 'could you']):\n",
        "        return 'question'\n",
        "    else:\n",
        "        return 'other'\n",
        "\n",
        "df['response_type'] = df['therapist_response'].apply(categorize_response)\n",
        "\n",
        "# Plot response type distribution\n",
        "plt.figure(figsize=(10, 6))\n",
        "sns.countplot(y='response_type', data=df, order=df['response_type'].value_counts().index)\n",
        "plt.title('Distribution of Response Types')\n",
        "plt.tight_layout()\n",
        "plt.show()"
      ]
    },
    {
      "cell_type": "code",
      "execution_count": null,
      "metadata": {},
      "outputs": [],
      "source": [
        "# Analyze response length by response type\n",
        "plt.figure(figsize=(10, 6))\n",
        "sns.boxplot(x='therapist_resp_length', y='response_type', data=df, orient='h')\n",
        "plt.title('Response Length by Response Type')\n",
        "plt.xlabel('Characters')\n",
        "plt.tight_layout()\n",
        "plt.show()"
      ]
    },
    {
      "cell_type": "code",
      "execution_count": null,
      "metadata": {},
      "outputs": [],
      "source": [
        "# Basic text analysis - most common words in patient messages\n",
        "from collections import Counter\n",
        "import re\n",
        "\n",
        "def get_top_words(texts, n=20, min_length=3):\n",
        "    all_words = ' '.join(texts).lower()\n",
        "    # Remove punctuation and split into words\n",
        "    words = re.findall(r'\\b\\w+\\b', all_words)\n",
        "    # Filter out short words and count\n",
        "    word_counts = Counter([w for w in words if len(w) >= min_length])\n",
        "    return word_counts.most_common(n)\n",
        "\n",
        "# Get top words for patient messages\n",
        "top_patient_words = get_top_words(df['patient_message'])\n",
        "\n",
        "# Plot\n",
        "plt.figure(figsize=(12, 6))\n",
        "words, counts = zip(*top_patient_words)\n",
        "sns.barplot(x=list(counts), y=list(words))\n",
        "plt.title('Most Common Words in Patient Messages')\n",
        "plt.xlabel('Count')\n",
        "plt.tight_layout()\n",
        "plt.show()"
      ]
    }
  ],
  "metadata": {
    "kernelspec": {
      "display_name": "Python 3",
      "language": "python",
      "name": "python3"
    },
    "language_info": {
      "codemirror_mode": {
        "name": "ipython",
        "version": 3
      },
      "file_extension": ".py",
      "mimetype": "text/x-python",
      "name": "python",
      "nbconvert_exporter": "python",
      "pygments_lexer": "ipython3",
      "version": "3.8.10"
    }
  },
  "nbformat": 4,
  "nbformat_minor": 4
}