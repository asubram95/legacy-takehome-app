{
 "cells": [
  {
   "cell_type": "markdown",
   "id": "bb5c707d",
   "metadata": {},
   "source": [
    "# Model Testing"
   ]
  },
  {
   "cell_type": "markdown",
   "id": "e1707063",
   "metadata": {},
   "source": [
    "Imports"
   ]
  },
  {
   "cell_type": "code",
   "execution_count": 18,
   "id": "6018a677",
   "metadata": {},
   "outputs": [],
   "source": [
    "from transformers import GPT2LMHeadModel, GPT2Tokenizer\n",
    "import pandas as pd\n",
    "import random"
   ]
  },
  {
   "cell_type": "markdown",
   "id": "e5129fd9",
   "metadata": {},
   "source": [
    "Helper functions"
   ]
  },
  {
   "cell_type": "code",
   "execution_count": 19,
   "id": "394a0c1a",
   "metadata": {},
   "outputs": [],
   "source": [
    "def load_trained_model(model_path):\n",
    "    model = GPT2LMHeadModel.from_pretrained(model_path)\n",
    "    return model"
   ]
  },
  {
   "cell_type": "code",
   "execution_count": 20,
   "id": "b8ddafa1",
   "metadata": {},
   "outputs": [],
   "source": [
    "def load_trained_tokenizer(tokenizer_path):\n",
    "    tokenizer = GPT2Tokenizer.from_pretrained(tokenizer_path)\n",
    "    return tokenizer"
   ]
  },
  {
   "cell_type": "code",
   "execution_count": 21,
   "id": "04e8be6f",
   "metadata": {},
   "outputs": [],
   "source": [
    "def generate_response(model, tokenizer, question, max_length=150):\n",
    "    # Format the input like training data\n",
    "    input_text = f\"Question: {question} Answer:\"\n",
    "    \n",
    "    ids = tokenizer.encode(input_text, return_tensors='pt')\n",
    "    final_outputs = model.generate(\n",
    "        ids,\n",
    "        do_sample=True,\n",
    "        max_length=max_length,\n",
    "        pad_token_id=tokenizer.eos_token_id,\n",
    "        top_k=50,\n",
    "        top_p=0.95,\n",
    "        temperature=0.8,\n",
    "    )\n",
    "    \n",
    "    generated_text = tokenizer.decode(final_outputs[0], skip_special_tokens=True)\n",
    "    # Extract only the answer part\n",
    "    answer = generated_text.replace(input_text, \"\").strip()\n",
    "    return answer"
   ]
  },
  {
   "cell_type": "code",
   "execution_count": 22,
   "id": "adb45006",
   "metadata": {},
   "outputs": [
    {
     "name": "stdout",
     "output_type": "stream",
     "text": [
      "Loading model...\n",
      "Testing model...\n",
      "\n",
      "Q1: How does a counselor decide when to end counseling sessions or to terminate working with a client?\n",
      "\n",
      "Original: Ideally, termination should be a mutual process. It's not that the therapist kicks the client out at some point and says, \"Okay, you're done.\" Rather, over time the client will decrease the frequency with which he/she comes to session so that it may start off as weekly, then decrease to biweekly, then perhaps once every three weeks, then once/month and so on. Throughout this process, the therapist and client should have had regular check ins about progress toward goals. If the client feels good about where he/she is in life, he/she might decide to suspend therapy for now. That being said, the therapist should make it very clear that if the client ever decided to return for \"maintenance\" therapy or a check in, he/she would always be welcome. There is no hard and fast rule to ending or a particular time period in which it must end. What matters most is that the client feels good about it and knows that the therapist will always be there should he/she wish to return.\n",
      "\n",
      "Generated: In my therapy practice, I typically have a conversation with clients during which I explain my theory and philosophy of therapy, as well as my general approach and working relationship with clients. During the dialogue, I try to ask the client if they trust me and if they need a break from their therapy sessions. Once the client has given me their reason for not trusting them, I end the therapy session.\n",
      " Therapy ends when all parties have received the maximum benefit from the therapist and received full and proper care from the client.   I\n",
      "\n",
      "Q2: I have so many issues to address. I have a history of sexual abuse, I’m a breast cancer survivor and I am a lifetime insomniac.    I have a long history of depression and I’m beginning to have anxiety. I have low self esteem but I’ve been happily married for almost 35 years.\n",
      "   I’ve never had counseling about any of this. Do I have too many issues to address in counseling?\n",
      "\n",
      "Original: Hello! You may have heard the saying that counseling is like peeling the layers of an onion. Whether a person comes to therapy with many issues on their heart and mind or whether he/she comes with something specific, one issue leads to another. Please don't feel as though you have too many issues. You are important and worthy. On the plus side,  you are a breast cancer survivor and have a wonderful marriage! Seek the help that you deserve.\n",
      "\n",
      "Generated: Hello, and thank you for your question. It is a great question, and one that I think a lot of people don't realize is that there is a great deal of pressure on people to talk about a lot of different things at one\n",
      "\n",
      "Q3: A year ago, the love of my life left me and never looked back. Our son was two months old at the time and it broke my heart. I miss her so much and can't seem to get over being so heartbroken.\n",
      "\n",
      "Original: Who takes care of your son, is a significant part of getting over your heartbreak.If you made reasonable custody terms re your son then the relationship heartache is much easier to recover from than if your son’s mother vanished from his life, or if the mother wants nothing to do w him.Re the actual relationship, let yourself feel sad and hurt since this is the truth.Usually life gradually fills in new people, including a relationship once you feel strong enough from having endured such sadness and loss.\n",
      "\n",
      "Generated: It sounds like you have been grieving a lot and have had a break up with your boyfriend. This is a normal grief process. It's normal to have a grieving process after a break up. Many people do not. You may be grieving a lost relationship, lost family, grief, or anything else. I would recommend that you see a therapist, have some closure, and see if you can work on having a relationship that is close to what you need. \n",
      "Question: I'm\n",
      "\n",
      "Q4: How can I help a patient who is feeling anxious?\n",
      "\n",
      "Generated: Thank you for your question. Sometimes anxiety and fear can make life difficult for some people. When we are afraid, we are doing damage to our bodies and relationships. Fearful and anxious people are those that try to avoid doing harm to themselves and others. With that being said, it sounds like your anxiety and fear may be inhibiting you from doing what is beneficial for you. I would suggest working with a therapist that specializes in anxiety and fear. They can help you learn skills that help you manage your anxiety and help you learn to be content when you are in a safe place.\n",
      " As a\n",
      "\n",
      "\n",
      "Testing completed successfully!\n"
     ]
    }
   ],
   "source": [
    "# Configuration\n",
    "model_path = '../models/tuned_gpt2'\n",
    "data_path = '../data/processed.csv'\n",
    "\n",
    "print(\"Loading model...\")\n",
    "\n",
    "# Load trained model\n",
    "model = load_trained_model(model_path)\n",
    "tokenizer = load_trained_tokenizer(model_path)\n",
    "\n",
    "# Load data \n",
    "data = pd.read_csv(data_path, usecols=['context', 'response'])\n",
    "\n",
    "# Test with some examples from the dataset\n",
    "random_indices = random.sample(range(len(data)), 3)\n",
    "\n",
    "test_questions = [\n",
    "    data['context'].iloc[random_indices[0]],\n",
    "    data['context'].iloc[random_indices[1]],\n",
    "    data['context'].iloc[random_indices[2]],\n",
    "    \"How can I help a patient who is feeling anxious?\"\n",
    "] \n",
    "\n",
    "print(\"Testing model...\\n\")\n",
    "\n",
    "for i, question in enumerate(test_questions):\n",
    "    print(f\"Q{i+1}: {question}\")\n",
    "    \n",
    "    if i < 3:\n",
    "        print(f\"\\nOriginal: {data['response'].iloc[random_indices[i]]}\")\n",
    "    \n",
    "    generated_answer = generate_response(model, tokenizer, question)\n",
    "    print(f\"\\nGenerated: {generated_answer}\")\n",
    "    print()\n",
    "\n",
    "print(\"\\nTesting completed successfully!\")"
   ]
  }
 ],
 "metadata": {
  "kernelspec": {
   "display_name": "venv",
   "language": "python",
   "name": "python3"
  },
  "language_info": {
   "codemirror_mode": {
    "name": "ipython",
    "version": 3
   },
   "file_extension": ".py",
   "mimetype": "text/x-python",
   "name": "python",
   "nbconvert_exporter": "python",
   "pygments_lexer": "ipython3",
   "version": "3.9.18"
  }
 },
 "nbformat": 4,
 "nbformat_minor": 5
}
